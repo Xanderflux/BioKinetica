{
 "cells": [
  {
   "cell_type": "code",
   "execution_count": 1,
   "id": "7f74136a-f5a6-4aac-82b7-3d6a3675bb90",
   "metadata": {},
   "outputs": [
    {
     "name": "stdout",
     "output_type": "stream",
     "text": [
      "Jupyter Notebook is working!\n"
     ]
    }
   ],
   "source": [
    "import numpy as np\n",
    "import matplotlib.pyplot as plt\n",
    "from sklearn.linear_model import LinearRegression\n",
    "\n",
    "# Example data: replace with your experimental data\n",
    "# Concentration (mg/L)\n",
    "concentrations = np.array([2, 4, 6, 8, 10])\n",
    "\n",
    "# Absorbance values\n",
    "absorbance = np.array([0.15, 0.30, 0.45, 0.60, 0.75])\n",
    "\n",
    "# Reshape data for linear regression\n",
    "X = concentrations.reshape(-1, 1)  # Independent variable (concentration)\n",
    "y = absorbance                   # Dependent variable (absorbance)\n",
    "\n",
    "# Fit the linear regression model\n",
    "model = LinearRegression()\n",
    "model.fit(X, y)\n",
    "\n",
    "# Get the slope (m) and intercept (b) for the equation y = mx + b\n",
    "slope = model.coef_[0]\n",
    "intercept = model.intercept_\n",
    "\n",
    "# Display the calibration curve equation\n",
    "print(f\"Calibration Curve Equation: Absorbance = {slope:.4f} * Concentration + {intercept:.4f}\")\n",
    "\n",
    "# Predict absorbance for the given concentrations (optional)\n",
    "predicted_absorbance = model.predict(X)\n",
    "\n",
    "# Plot the calibration curve\n",
    "plt.scatter(concentrations, absorbance, color='blue', label='Experimental Data')\n",
    "plt.plot(concentrations, predicted_absorbance, color='red', label=f'Fit: y = {slope:.4f}x + {intercept:.4f}')\n",
    "plt.title(\"Calibration Curve for Potassium Dichromate\")\n",
    "plt.xlabel(\"Concentration (mg/L)\")\n",
    "plt.ylabel(\"Absorbance\")\n",
    "plt.legend()\n",
    "plt.grid()\n",
    "plt.show()\n"
   ]
  },
  {
   "cell_type": "code",
   "execution_count": null,
   "id": "76afafd2-d24d-4fdc-9846-d0681c9568f6",
   "metadata": {},
   "outputs": [],
   "source": [
    "\n",
    "\n",
    "# Given calibration equation parameters\n",
    "slope = 0.075  # Replace with the slope (m) from your model\n",
    "intercept = 0.000  # Replace with the intercept (b) from your model\n",
    "\n",
    "# Absorbance values to calculate concentrations for\n",
    "absorbance_values = np.array([0.20, 0.35, 0.50])  # Replace with your experimental absorbance values\n",
    "\n",
    "# Calculate concentrations using the equation: Concentration = (Absorbance - intercept) / slope\n",
    "concentrations = (absorbance_values - intercept) / slope\n",
    "\n",
    "# Display the calculated concentrations\n",
    "for i, absorbance in enumerate(absorbance_values):\n",
    "    print(f\"Absorbance: {absorbance:.3f} -> Concentration: {concentrations[i]:.3f} mg/L\")\n"
   ]
  }
 ],
 "metadata": {
  "kernelspec": {
   "display_name": "Python 3 (ipykernel)",
   "language": "python",
   "name": "python3"
  },
  "language_info": {
   "codemirror_mode": {
    "name": "ipython",
    "version": 3
   },
   "file_extension": ".py",
   "mimetype": "text/x-python",
   "name": "python",
   "nbconvert_exporter": "python",
   "pygments_lexer": "ipython3",
   "version": "3.12.3"
  }
 },
 "nbformat": 4,
 "nbformat_minor": 5
}
